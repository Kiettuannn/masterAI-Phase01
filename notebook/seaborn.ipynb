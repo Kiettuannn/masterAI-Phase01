{
 "cells": [
  {
   "cell_type": "markdown",
   "id": "3f2fff08",
   "metadata": {},
   "source": [
    "## Introduction to Seaborn"
   ]
  },
  {
   "cell_type": "code",
   "execution_count": null,
   "id": "904c0442",
   "metadata": {},
   "outputs": [],
   "source": [
    "# Import modules\n",
    "import numpy as np \n",
    "import pandas as pd\n",
    "import matplotlib.pyplot as plt\n",
    "import seaborn as sns\n"
   ]
  },
  {
   "cell_type": "code",
   "execution_count": null,
   "id": "d65bcba0",
   "metadata": {},
   "outputs": [],
   "source": []
  }
 ],
 "metadata": {
  "kernelspec": {
   "display_name": "venv",
   "language": "python",
   "name": "python3"
  },
  "language_info": {
   "name": "python",
   "version": "3.13.5"
  }
 },
 "nbformat": 4,
 "nbformat_minor": 5
}
