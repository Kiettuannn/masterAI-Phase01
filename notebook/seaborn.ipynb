{
 "cells": [
  {
   "cell_type": "markdown",
   "id": "3f2fff08",
   "metadata": {},
   "source": [
    "## Introduction to Seaborn"
   ]
  },
  {
   "cell_type": "code",
   "execution_count": null,
   "id": "904c0442",
   "metadata": {},
   "outputs": [],
   "source": [
    "# Import modules\n",
    "import numpy as np \n",
    "import pandas as pd\n",
    "import matplotlib.pyplot as plt\n",
    "import seaborn as sns\n",
    "\n"
   ]
  },
  {
   "cell_type": "code",
   "execution_count": 10,
   "id": "d65bcba0",
   "metadata": {},
   "outputs": [
    {
     "name": "stdout",
     "output_type": "stream",
     "text": [
      "['anagrams', 'anscombe', 'attention', 'brain_networks', 'car_crashes', 'diamonds', 'dots', 'dowjones', 'exercise', 'flights', 'fmri', 'geyser', 'glue', 'healthexp', 'iris', 'mpg', 'penguins', 'planets', 'seaice', 'taxis', 'tips', 'titanic']\n"
     ]
    }
   ],
   "source": [
    "print(sns.get_dataset_names())"
   ]
  },
  {
   "cell_type": "markdown",
   "id": "adae83f0",
   "metadata": {},
   "source": [
    "### Numerical Plots\n",
    "* Distribution: Histogram, KDE (Kernel Density Estimate)\n",
    "* Bar Plot\n",
    "* Count Plot\n",
    "* Facet Plot: Tạo ra 1 lưới 2D gồm các bảng được xác định bởi các biến tạo thành các hàng và cột \n",
    "* Box Plot: Phương pháp để mô tả bằng đồ thị các nhóm dữ liệu số thông qua các phần tử của chúng\n",
    "* Join Plot\n",
    "* Pair Plot\n",
    "* Heat map: Một kỹ thuật trực quan hoá dữ liệu cho thấy cường độ của 1 hiện tượng là màu sắc ở 2 chiều"
   ]
  }
 ],
 "metadata": {
  "kernelspec": {
   "display_name": "venv",
   "language": "python",
   "name": "python3"
  },
  "language_info": {
   "codemirror_mode": {
    "name": "ipython",
    "version": 3
   },
   "file_extension": ".py",
   "mimetype": "text/x-python",
   "name": "python",
   "nbconvert_exporter": "python",
   "pygments_lexer": "ipython3",
   "version": "3.13.5"
  }
 },
 "nbformat": 4,
 "nbformat_minor": 5
}
